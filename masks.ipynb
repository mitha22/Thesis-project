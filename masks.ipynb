{
 "cells": [
  {
   "cell_type": "code",
   "execution_count": 1,
   "metadata": {},
   "outputs": [],
   "source": [
    "from kili.client import Kili\n",
    "from pathlib import Path\n",
    "import os\n",
    "import pandas as pd\n",
    "import json\n",
    "import numpy as np\n",
    "import cv2\n",
    "import json\n",
    "import os\n",
    "from PIL import Image\n",
    "import matplotlib.pyplot as plt\n"
   ]
  },
  {
   "cell_type": "markdown",
   "metadata": {},
   "source": [
    "After images were annotated in KILI, the images and the JSON file the positional data of the segmentation masks was downloaded on a local drive.\n",
    "An  API key was used for this. \n",
    "Choosing 'single_file' means that all annotation data will be in one JSON file. \n",
    "The images are exported in KILI format, meaning the coming section will convert it to pixelwise annotation such that the mask will be compatible with SegFormer.\n",
    "\n",
    "source code: https://python-sdk-docs.kili-technology.com/latest/sdk/tutorials/export_a_kili_project/"
   ]
  },
  {
   "cell_type": "code",
   "execution_count": 2,
   "metadata": {},
   "outputs": [
    {
     "name": "stderr",
     "output_type": "stream",
     "text": [
      "/Users/mithilathangaraj/Desktop/Speciale/Images/export1.zip\n"
     ]
    }
   ],
   "source": [
    "#Setting API key and using OS lib to access the project in KILI.\n",
    "os.environ['KILI_API_KEY'] = 'e6eb6361-cf3c-44aa-b258-010b64047ccf'\n",
    "\n",
    "kili = Kili()\n",
    "\n",
    "\n",
    "\n",
    "#exporting project to local directory\n",
    "kili.export_labels(\n",
    "    project_id=\"cls8xp2yj2xkl011faote2ivg\", \n",
    "    filename=\"/Users/mithilathangaraj/Desktop/Speciale/Images/export1.zip\",\n",
    "    fmt=\"kili\",\n",
    "    single_file=True,\n",
    ")"
   ]
  },
  {
   "cell_type": "markdown",
   "metadata": {},
   "source": [
    "After downloading the ZIP file and decompressing it, a folder with images and a JSON file is visible. \n",
    "The JSON file and image folder is needed to generate a mask for each image. \n",
    "After inspecting the JSON file, it is possible to see that the vertices are normalized in the JSON file, meaning the position of the mask is has values from 0-1. In order for the mask to be visible the normalized vertices need to be denormalized. The first function denormalizes the vertices. \n",
    "\n",
    "\n",
    "class_ids is a dictionary consistent with the label names in the JSON file. It is used to assign a color value to each class. \n",
    "\n",
    "sourcecode: inspiration from https://medium.com/@deekshithadp96/how-to-create-a-batch-of-masks-or-ground-truth-images-from-labelme-json-annotations-for-an-image-bd3affc32f34. \n"
   ]
  },
  {
   "cell_type": "code",
   "execution_count": null,
   "metadata": {},
   "outputs": [],
   "source": [
    "#Function to denormalize the normalized vertices in the JSON file. De 'denormalization' is done by scaling the vertices which is corresponding to 'x' and 'y' key in the JSON file.\n",
    "#The scaling factor will be the height and width the images corresponding to the mask of which the vertices are within. \n",
    "def normalize_vertices(vertices, image_width, image_height):\n",
    "    return np.array([[(int(vertex['x'] * image_width), int(vertex['y'] * image_height)) for vertex in vertices]], np.int32)\n",
    "\n",
    "\n",
    "#dictionary to assign color values to each class. \n",
    "class_ids = {\n",
    "    'BACKGROUND': (0, 0, 0),\n",
    "    'LOW_1_3': (0, 255, 0),\n",
    "    'HIGH_4_5': (0, 0, 255)\n",
    "}\n",
    "\n",
    "#Defining path to JSON file\n",
    "json_file_path = '/Users/mithilathangaraj/Desktop/Speciale/Images/export1/data.json'\n",
    "#Definting path to images\n",
    "images_dir = '/Users/mithilathangaraj/Desktop/Speciale/Images/export1'\n",
    "#Defining path fo labels\n",
    "masks_dir = '/Users/mithilathangaraj/Desktop/Speciale/Images/export1/labels'\n",
    "\n",
    "#Checking if the masks_dir exists e.g. if the folder is created correctly. \n",
    "if not os.path.exists(masks_dir):\n",
    "    os.makedirs(masks_dir)\n",
    "#Opening the JSON file\n",
    "with open(json_file_path, 'r') as file:\n",
    "    annotations = json.load(file)\n",
    "\n",
    "#Each images is loaded in original_image and \n",
    "for annotation in annotations:\n",
    "    image_path = os.path.join(images_dir, annotation['content'])\n",
    "    original_image = cv2.imread(image_path)\n",
    "    \n",
    "#image height and width is extracted and number of channels is also defined here. Since the masks are generated in RGB, there are 3 channels. \n",
    "    image_height, image_width = original_image.shape[:2]\n",
    "    mask = np.zeros((image_height, image_width, 3), dtype=np.uint8)\n",
    "\n",
    "#Iterating through the JSON file to find the right keys and create the masks:\n",
    "#Everything within ' ' is a key that is used during the iteration. 'latestLabel' and 'jsonResponse' is the entry point of the JSON file. \n",
    "    jsonResponse = annotation.get('latestLabel', {}).get('jsonResponse', {})\n",
    "    #The vertices are scaled due to the denormalization using normalizedVertices function. The positional information about the mask is in 'boundingPoly'.\n",
    "    if 'OBJECT_DETECTION_JOB' in jsonResponse:\n",
    "        for obj in jsonResponse['OBJECT_DETECTION_JOB']['annotations']:\n",
    "            vertices = normalize_vertices(obj['boundingPoly'][0]['normalizedVertices'], image_width, image_height)\n",
    "            #'children' key contain information about the label name. If the label names LOW_1_3 or HIGH_4_5 is found, the mask is filled using cv2.fillPoly. \n",
    "            if 'children' in obj:\n",
    "                for child_key in obj['children']:\n",
    "                    child_job = obj['children'][child_key]\n",
    "                    for category in child_job['categories']:\n",
    "                        sub_category = category['name'].replace(' ', '_').upper()\n",
    "                        #The labels are assigned to the class ids created in class_ids above and the masks are colored accordingly. \n",
    "                        if sub_category in ['LOW_1_3', 'HIGH_4_5']:\n",
    "                            cv2.fillPoly(mask, vertices, class_ids[sub_category])\n",
    "                            \n",
    "                            \n",
    "    #Creating fileformat for the mask                        \n",
    "    mask_filename = os.path.basename(image_path).replace('.JPG.jpg', '.jpg')\n",
    "    #saving the mask in the mask directorry\n",
    "    cv2.imwrite(os.path.join(masks_dir, mask_filename), mask)\n",
    "\n"
   ]
  },
  {
   "cell_type": "markdown",
   "metadata": {},
   "source": [
    "Masks are now generated and cleansing of the masks and images are needed before feeding the data to a model. "
   ]
  },
  {
   "cell_type": "code",
   "execution_count": 37,
   "metadata": {},
   "outputs": [],
   "source": [
    "#Function to remove '.JPG' from filenames in the images_dir. Also doing the same for the masks; in line 14 replacing '' with '.png' and line 23 folder is switched to the masks directory. \n",
    "def rename_files(folder_path):\n",
    "    # List all files in the folder\n",
    "    file_list = os.listdir(folder_path)\n",
    "    \n",
    "    #iterating through each file in the folder\n",
    "    for file_name in file_list:\n",
    "        #checking if the file name contains '.JPG'\n",
    "        if '.JPG' in file_name:\n",
    "            #constructing the full path to the file\n",
    "            old_file_path = os.path.join(folder_path, file_name)\n",
    "            \n",
    "            #constructing the new file name by replacing '.JPG' with ''\n",
    "            new_file_name = file_name.replace('.JPG', '')\n",
    "            \n",
    "            #constructing the full path to the new file\n",
    "            new_file_path = os.path.join(folder_path, new_file_name)\n",
    "            \n",
    "            #renaming the file\n",
    "            os.rename(old_file_path, new_file_path)\n",
    "\n",
    "#path to the assets folder\n",
    "assets_folder_path = '/Users/mithilathangaraj/Desktop/Speciale/Images/export1/assets'\n",
    "\n",
    "#rename files in the assets folder\n",
    "rename_files(assets_folder_path)"
   ]
  },
  {
   "cell_type": "markdown",
   "metadata": {},
   "source": [
    "Investigating label distribution. "
   ]
  },
  {
   "cell_type": "code",
   "execution_count": 6,
   "metadata": {},
   "outputs": [
    {
     "name": "stdout",
     "output_type": "stream",
     "text": [
      "Label Distribution:\n",
      "LOW_1_3: 1677\n",
      "HIGH_4_5: 1393\n",
      "BACKGROUND: 985\n"
     ]
    },
    {
     "data": {
      "image/png": "[encoded data removed]",
      "text/plain": [
       "<Figure size 1000x600 with 1 Axes>"
      ]
     },
     "metadata": {},
     "output_type": "display_data"
    }
   ],
   "source": [
    "#Function to count the labels in the JSON file. First checks if the data contains a dictionary or a list.\n",
    "def count_labels(data, label_counts):\n",
    "    if isinstance(data, dict):\n",
    "        for key, value in data.items():\n",
    "            if isinstance(value, (dict, list)):\n",
    "                count_labels(value, label_counts)\n",
    "                #if the everytime the keyname in interest is met, the counter collects that information. \n",
    "            elif key == 'name' and value.replace(' ', '_').upper() in label_counts:\n",
    "                label_counts[value.replace(' ', '_').upper()] += 1\n",
    "    elif isinstance(data, list):\n",
    "        for item in data:\n",
    "            count_labels(item, label_counts)\n",
    "\n",
    "\n",
    "#loading the JSON content from the file\n",
    "with open(json_file_path, 'r') as f:\n",
    "    data = json.load(f)\n",
    "\n",
    "#initializing a dictionary to count labels, starting point is always 0. \n",
    "label_counts = {'LOW_1_3': 0, 'HIGH_4_5': 0, 'BACKGROUND': 0}\n",
    "\n",
    "#using the function and counting labels in the JSON file\n",
    "count_labels(data, label_counts)\n",
    "\n",
    "#printing the distribution of labels\n",
    "print(\"Label Distribution:\")\n",
    "for label, count in label_counts.items():\n",
    "    print(f\"{label}: {count}\")\n",
    "\n",
    "#plotting using matplotlib\n",
    "import matplotlib.pyplot as plt\n",
    "\n",
    "#data for plotting\n",
    "categories = list(label_counts.keys())\n",
    "counts = list(label_counts.values())\n",
    "\n",
    "#creating a bar plot for label distribution\n",
    "plt.figure(figsize=(10, 6))\n",
    "plt.bar(categories, counts, color=['green', 'red', 'black'])\n",
    "plt.title('Label Distribution')\n",
    "plt.xlabel('Label')\n",
    "plt.ylabel('Count')\n",
    "plt.show()\n",
    "\n",
    "\n",
    "\n"
   ]
  },
  {
   "cell_type": "markdown",
   "metadata": {},
   "source": [
    "Lastly, checking if the masks are created correctly by visualizing them. "
   ]
  },
  {
   "cell_type": "code",
   "execution_count": null,
   "metadata": {},
   "outputs": [],
   "source": [
    "#file name for the example image - \n",
    "file_name = 'debriscat4_30.jpg' \n",
    "\n",
    "\n",
    "\n",
    "#constructing the full path to the image and mask and changing the fileformat for masks from JPG to PNG. \n",
    "image_path = image_dir / file_name\n",
    "mask_path = mask_dir / file_name.replace('.jpg', '.png')\n",
    "\n",
    "#loading the image and the mask using PIL library\n",
    "image = Image.open(image_path)\n",
    "mask = Image.open(mask_path)\n",
    "\n",
    "# setup of plot with 1 row and 2 columns\n",
    "fig, axs = plt.subplots(1, 2, figsize=(12, 6))\n",
    "\n",
    "#displaying the image\n",
    "axs[0].imshow(image)\n",
    "axs[0].set_title('Original Image')\n",
    "axs[0].axis('off')  # Turn off axis numbers and ticks\n",
    "\n",
    "#displaying the mask - please notice \n",
    "axs[1].imshow(mask, cmap='RGB')  \n",
    "axs[1].set_title('True Mask')\n",
    "axs[1].axis('off') \n",
    "\n",
    "plt.show()\n"
   ]
  }
 ],
 "metadata": {
  "kernelspec": {
   "display_name": "base",
   "language": "python",
   "name": "python3"
  },
  "language_info": {
   "codemirror_mode": {
    "name": "ipython",
    "version": 3
   },
   "file_extension": ".py",
   "mimetype": "text/x-python",
   "name": "python",
   "nbconvert_exporter": "python",
   "pygments_lexer": "ipython3",
   "version": "3.11.3"
  }
 },
 "nbformat": 4,
 "nbformat_minor": 2
}
